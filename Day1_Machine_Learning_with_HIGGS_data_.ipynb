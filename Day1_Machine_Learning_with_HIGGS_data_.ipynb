{
  "nbformat": 4,
  "nbformat_minor": 0,
  "metadata": {
    "colab": {
      "name": "Day1 Machine Learning with HIGGS data .ipynb",
      "provenance": [],
      "collapsed_sections": []
    },
    "kernelspec": {
      "name": "python3",
      "display_name": "Python 3"
    },
    "accelerator": "TPU"
  },
  "cells": [
    {
      "cell_type": "code",
      "metadata": {
        "id": "C46yMcjn6FPG"
      },
      "source": [
        ""
      ],
      "execution_count": null,
      "outputs": []
    },
    {
      "cell_type": "code",
      "metadata": {
        "id": "b9fNdqPu_TSl"
      },
      "source": [
        "import tensorflow as tf\n",
        "import pandas as pd\n",
        "import numpy as np\n",
        "import matplotlib.pyplot as plt\n",
        "from tensorflow.keras.utils import to_categorical\n",
        "from sklearn.model_selection import train_test_split"
      ],
      "execution_count": null,
      "outputs": []
    },
    {
      "cell_type": "code",
      "metadata": {
        "id": "pA6028ahArA5"
      },
      "source": [
        "import os"
      ],
      "execution_count": null,
      "outputs": []
    },
    {
      "cell_type": "code",
      "metadata": {
        "id": "hdAz6Fe7B17X"
      },
      "source": [
        "#just waiting for the data file to be extracted and written on the drive so its ready for use .... till then just writing a formal code"
      ],
      "execution_count": null,
      "outputs": []
    },
    {
      "cell_type": "code",
      "metadata": {
        "id": "bYaqHohrAuiY",
        "outputId": "74517da9-134f-4b09-ca9a-33423c7b3b55",
        "colab": {
          "base_uri": "https://localhost:8080/",
          "height": 34
        }
      },
      "source": [
        "os.listdir('drive/My Drive/Projects/HIGGS')"
      ],
      "execution_count": null,
      "outputs": [
        {
          "output_type": "execute_result",
          "data": {
            "text/plain": [
              "['model1', 'Higgs.csv']"
            ]
          },
          "metadata": {
            "tags": []
          },
          "execution_count": 5
        }
      ]
    },
    {
      "cell_type": "code",
      "metadata": {
        "id": "3sKoJsra_j5J",
        "outputId": "2bc89d37-14db-44ec-c212-38a5d4e92654",
        "colab": {
          "base_uri": "https://localhost:8080/",
          "height": 51
        }
      },
      "source": [
        "%%time\n",
        "df = pd.read_csv('drive/My Drive/Projects/HIGGS/Higgs.csv',delimiter=',')"
      ],
      "execution_count": null,
      "outputs": [
        {
          "output_type": "stream",
          "text": [
            "CPU times: user 1min 38s, sys: 10.1 s, total: 1min 48s\n",
            "Wall time: 2min 24s\n"
          ],
          "name": "stdout"
        }
      ]
    },
    {
      "cell_type": "code",
      "metadata": {
        "id": "PJmboqb4_4Mh",
        "outputId": "3b6015a1-e774-4fdc-d686-b3df29649cbf",
        "colab": {
          "base_uri": "https://localhost:8080/",
          "height": 368
        }
      },
      "source": [
        "%%time\n",
        "df.describe()"
      ],
      "execution_count": null,
      "outputs": [
        {
          "output_type": "stream",
          "text": [
            "CPU times: user 11.5 s, sys: 59.2 ms, total: 11.6 s\n",
            "Wall time: 11.6 s\n"
          ],
          "name": "stdout"
        },
        {
          "output_type": "execute_result",
          "data": {
            "text/html": [
              "<div>\n",
              "<style scoped>\n",
              "    .dataframe tbody tr th:only-of-type {\n",
              "        vertical-align: middle;\n",
              "    }\n",
              "\n",
              "    .dataframe tbody tr th {\n",
              "        vertical-align: top;\n",
              "    }\n",
              "\n",
              "    .dataframe thead th {\n",
              "        text-align: right;\n",
              "    }\n",
              "</style>\n",
              "<table border=\"1\" class=\"dataframe\">\n",
              "  <thead>\n",
              "    <tr style=\"text-align: right;\">\n",
              "      <th></th>\n",
              "      <th>1.000000000000000000e+00</th>\n",
              "      <th>8.692932128906250000e-01</th>\n",
              "      <th>-6.350818276405334473e-01</th>\n",
              "      <th>2.256902605295181274e-01</th>\n",
              "      <th>3.274700641632080078e-01</th>\n",
              "      <th>-6.899932026863098145e-01</th>\n",
              "      <th>7.542022466659545898e-01</th>\n",
              "      <th>-2.485731393098831177e-01</th>\n",
              "      <th>-1.092063903808593750e+00</th>\n",
              "      <th>0.000000000000000000e+00</th>\n",
              "      <th>1.374992132186889648e+00</th>\n",
              "      <th>-6.536741852760314941e-01</th>\n",
              "      <th>9.303491115570068359e-01</th>\n",
              "      <th>1.107436060905456543e+00</th>\n",
              "      <th>1.138904333114624023e+00</th>\n",
              "      <th>-1.578198313713073730e+00</th>\n",
              "      <th>-1.046985387802124023e+00</th>\n",
              "      <th>0.000000000000000000e+00.1</th>\n",
              "      <th>6.579295396804809570e-01</th>\n",
              "      <th>-1.045456994324922562e-02</th>\n",
              "      <th>-4.576716944575309753e-02</th>\n",
              "      <th>3.101961374282836914e+00</th>\n",
              "      <th>1.353760004043579102e+00</th>\n",
              "      <th>9.795631170272827148e-01</th>\n",
              "      <th>9.780761599540710449e-01</th>\n",
              "      <th>9.200048446655273438e-01</th>\n",
              "      <th>7.216574549674987793e-01</th>\n",
              "      <th>9.887509346008300781e-01</th>\n",
              "      <th>8.766783475875854492e-01</th>\n",
              "    </tr>\n",
              "  </thead>\n",
              "  <tbody>\n",
              "    <tr>\n",
              "      <th>count</th>\n",
              "      <td>1.100000e+07</td>\n",
              "      <td>1.100000e+07</td>\n",
              "      <td>1.100000e+07</td>\n",
              "      <td>1.100000e+07</td>\n",
              "      <td>1.100000e+07</td>\n",
              "      <td>1.100000e+07</td>\n",
              "      <td>1.100000e+07</td>\n",
              "      <td>1.100000e+07</td>\n",
              "      <td>1.100000e+07</td>\n",
              "      <td>1.100000e+07</td>\n",
              "      <td>1.100000e+07</td>\n",
              "      <td>1.100000e+07</td>\n",
              "      <td>1.100000e+07</td>\n",
              "      <td>1.100000e+07</td>\n",
              "      <td>1.100000e+07</td>\n",
              "      <td>1.100000e+07</td>\n",
              "      <td>1.100000e+07</td>\n",
              "      <td>1.100000e+07</td>\n",
              "      <td>1.100000e+07</td>\n",
              "      <td>1.100000e+07</td>\n",
              "      <td>1.100000e+07</td>\n",
              "      <td>1.100000e+07</td>\n",
              "      <td>1.100000e+07</td>\n",
              "      <td>1.100000e+07</td>\n",
              "      <td>1.100000e+07</td>\n",
              "      <td>1.100000e+07</td>\n",
              "      <td>1.100000e+07</td>\n",
              "      <td>1.100000e+07</td>\n",
              "      <td>1.100000e+07</td>\n",
              "    </tr>\n",
              "    <tr>\n",
              "      <th>mean</th>\n",
              "      <td>5.299202e-01</td>\n",
              "      <td>9.914659e-01</td>\n",
              "      <td>-8.239884e-06</td>\n",
              "      <td>-1.329277e-05</td>\n",
              "      <td>9.985364e-01</td>\n",
              "      <td>2.619732e-05</td>\n",
              "      <td>9.909153e-01</td>\n",
              "      <td>-2.025261e-05</td>\n",
              "      <td>7.815478e-06</td>\n",
              "      <td>9.999688e-01</td>\n",
              "      <td>9.927294e-01</td>\n",
              "      <td>-1.020502e-05</td>\n",
              "      <td>-2.085345e-05</td>\n",
              "      <td>1.000008e+00</td>\n",
              "      <td>9.922590e-01</td>\n",
              "      <td>1.473909e-05</td>\n",
              "      <td>3.773813e-06</td>\n",
              "      <td>1.000012e+00</td>\n",
              "      <td>9.861087e-01</td>\n",
              "      <td>-5.756004e-06</td>\n",
              "      <td>1.745320e-05</td>\n",
              "      <td>1.000000e+00</td>\n",
              "      <td>1.034290e+00</td>\n",
              "      <td>1.024805e+00</td>\n",
              "      <td>1.050554e+00</td>\n",
              "      <td>1.009742e+00</td>\n",
              "      <td>9.729596e-01</td>\n",
              "      <td>1.033036e+00</td>\n",
              "      <td>9.598120e-01</td>\n",
              "    </tr>\n",
              "    <tr>\n",
              "      <th>std</th>\n",
              "      <td>4.991040e-01</td>\n",
              "      <td>5.653777e-01</td>\n",
              "      <td>1.008827e+00</td>\n",
              "      <td>1.006346e+00</td>\n",
              "      <td>6.000185e-01</td>\n",
              "      <td>1.006326e+00</td>\n",
              "      <td>4.749748e-01</td>\n",
              "      <td>1.009303e+00</td>\n",
              "      <td>1.005901e+00</td>\n",
              "      <td>1.027808e+00</td>\n",
              "      <td>4.999939e-01</td>\n",
              "      <td>1.009331e+00</td>\n",
              "      <td>1.006154e+00</td>\n",
              "      <td>1.049398e+00</td>\n",
              "      <td>4.876624e-01</td>\n",
              "      <td>1.008747e+00</td>\n",
              "      <td>1.006305e+00</td>\n",
              "      <td>1.193676e+00</td>\n",
              "      <td>5.057777e-01</td>\n",
              "      <td>1.007694e+00</td>\n",
              "      <td>1.006366e+00</td>\n",
              "      <td>1.400209e+00</td>\n",
              "      <td>6.746354e-01</td>\n",
              "      <td>3.808074e-01</td>\n",
              "      <td>1.645763e-01</td>\n",
              "      <td>3.974453e-01</td>\n",
              "      <td>5.254063e-01</td>\n",
              "      <td>3.652556e-01</td>\n",
              "      <td>3.133378e-01</td>\n",
              "    </tr>\n",
              "    <tr>\n",
              "      <th>min</th>\n",
              "      <td>0.000000e+00</td>\n",
              "      <td>2.746966e-01</td>\n",
              "      <td>-2.434976e+00</td>\n",
              "      <td>-1.742508e+00</td>\n",
              "      <td>2.370088e-04</td>\n",
              "      <td>-1.743944e+00</td>\n",
              "      <td>1.375024e-01</td>\n",
              "      <td>-2.969725e+00</td>\n",
              "      <td>-1.741237e+00</td>\n",
              "      <td>0.000000e+00</td>\n",
              "      <td>1.889811e-01</td>\n",
              "      <td>-2.913090e+00</td>\n",
              "      <td>-1.742372e+00</td>\n",
              "      <td>0.000000e+00</td>\n",
              "      <td>2.636076e-01</td>\n",
              "      <td>-2.729663e+00</td>\n",
              "      <td>-1.742069e+00</td>\n",
              "      <td>0.000000e+00</td>\n",
              "      <td>3.653542e-01</td>\n",
              "      <td>-2.497265e+00</td>\n",
              "      <td>-1.742691e+00</td>\n",
              "      <td>0.000000e+00</td>\n",
              "      <td>7.507046e-02</td>\n",
              "      <td>1.986757e-01</td>\n",
              "      <td>8.304866e-02</td>\n",
              "      <td>1.320062e-01</td>\n",
              "      <td>4.786215e-02</td>\n",
              "      <td>2.951122e-01</td>\n",
              "      <td>3.307214e-01</td>\n",
              "    </tr>\n",
              "    <tr>\n",
              "      <th>25%</th>\n",
              "      <td>0.000000e+00</td>\n",
              "      <td>5.907533e-01</td>\n",
              "      <td>-7.383225e-01</td>\n",
              "      <td>-8.719308e-01</td>\n",
              "      <td>5.768156e-01</td>\n",
              "      <td>-8.712081e-01</td>\n",
              "      <td>6.789927e-01</td>\n",
              "      <td>-6.872450e-01</td>\n",
              "      <td>-8.680962e-01</td>\n",
              "      <td>0.000000e+00</td>\n",
              "      <td>6.564608e-01</td>\n",
              "      <td>-6.944718e-01</td>\n",
              "      <td>-8.701791e-01</td>\n",
              "      <td>0.000000e+00</td>\n",
              "      <td>6.508527e-01</td>\n",
              "      <td>-6.998083e-01</td>\n",
              "      <td>-8.711343e-01</td>\n",
              "      <td>0.000000e+00</td>\n",
              "      <td>6.177673e-01</td>\n",
              "      <td>-7.141902e-01</td>\n",
              "      <td>-8.714789e-01</td>\n",
              "      <td>0.000000e+00</td>\n",
              "      <td>7.906095e-01</td>\n",
              "      <td>8.462266e-01</td>\n",
              "      <td>9.857525e-01</td>\n",
              "      <td>7.675732e-01</td>\n",
              "      <td>6.738168e-01</td>\n",
              "      <td>8.193964e-01</td>\n",
              "      <td>7.703901e-01</td>\n",
              "    </tr>\n",
              "    <tr>\n",
              "      <th>50%</th>\n",
              "      <td>1.000000e+00</td>\n",
              "      <td>8.533714e-01</td>\n",
              "      <td>-5.415563e-05</td>\n",
              "      <td>-2.410638e-04</td>\n",
              "      <td>8.916277e-01</td>\n",
              "      <td>2.125842e-04</td>\n",
              "      <td>8.948193e-01</td>\n",
              "      <td>-2.543566e-05</td>\n",
              "      <td>5.813991e-05</td>\n",
              "      <td>1.086538e+00</td>\n",
              "      <td>8.901377e-01</td>\n",
              "      <td>6.027267e-05</td>\n",
              "      <td>3.514990e-04</td>\n",
              "      <td>0.000000e+00</td>\n",
              "      <td>8.972494e-01</td>\n",
              "      <td>1.728937e-04</td>\n",
              "      <td>-7.519117e-04</td>\n",
              "      <td>0.000000e+00</td>\n",
              "      <td>8.682333e-01</td>\n",
              "      <td>3.721330e-04</td>\n",
              "      <td>-2.642369e-04</td>\n",
              "      <td>0.000000e+00</td>\n",
              "      <td>8.949304e-01</td>\n",
              "      <td>9.506853e-01</td>\n",
              "      <td>9.897798e-01</td>\n",
              "      <td>9.165110e-01</td>\n",
              "      <td>8.733798e-01</td>\n",
              "      <td>9.473447e-01</td>\n",
              "      <td>8.719701e-01</td>\n",
              "    </tr>\n",
              "    <tr>\n",
              "      <th>75%</th>\n",
              "      <td>1.000000e+00</td>\n",
              "      <td>1.236226e+00</td>\n",
              "      <td>7.382142e-01</td>\n",
              "      <td>8.709940e-01</td>\n",
              "      <td>1.293056e+00</td>\n",
              "      <td>8.714708e-01</td>\n",
              "      <td>1.170740e+00</td>\n",
              "      <td>6.871941e-01</td>\n",
              "      <td>8.683126e-01</td>\n",
              "      <td>2.173076e+00</td>\n",
              "      <td>1.201875e+00</td>\n",
              "      <td>6.945924e-01</td>\n",
              "      <td>8.698727e-01</td>\n",
              "      <td>2.214872e+00</td>\n",
              "      <td>1.221798e+00</td>\n",
              "      <td>7.001541e-01</td>\n",
              "      <td>8.713947e-01</td>\n",
              "      <td>2.548224e+00</td>\n",
              "      <td>1.220930e+00</td>\n",
              "      <td>7.141017e-01</td>\n",
              "      <td>8.716055e-01</td>\n",
              "      <td>3.101961e+00</td>\n",
              "      <td>1.024730e+00</td>\n",
              "      <td>1.083493e+00</td>\n",
              "      <td>1.020528e+00</td>\n",
              "      <td>1.142226e+00</td>\n",
              "      <td>1.138439e+00</td>\n",
              "      <td>1.140458e+00</td>\n",
              "      <td>1.059248e+00</td>\n",
              "    </tr>\n",
              "    <tr>\n",
              "      <th>max</th>\n",
              "      <td>1.000000e+00</td>\n",
              "      <td>1.209891e+01</td>\n",
              "      <td>2.434868e+00</td>\n",
              "      <td>1.743236e+00</td>\n",
              "      <td>1.539682e+01</td>\n",
              "      <td>1.743257e+00</td>\n",
              "      <td>9.940391e+00</td>\n",
              "      <td>2.969674e+00</td>\n",
              "      <td>1.741454e+00</td>\n",
              "      <td>2.173076e+00</td>\n",
              "      <td>1.164708e+01</td>\n",
              "      <td>2.913210e+00</td>\n",
              "      <td>1.743175e+00</td>\n",
              "      <td>2.214872e+00</td>\n",
              "      <td>1.470899e+01</td>\n",
              "      <td>2.730009e+00</td>\n",
              "      <td>1.742884e+00</td>\n",
              "      <td>2.548224e+00</td>\n",
              "      <td>1.288257e+01</td>\n",
              "      <td>2.498009e+00</td>\n",
              "      <td>1.743372e+00</td>\n",
              "      <td>3.101961e+00</td>\n",
              "      <td>4.019237e+01</td>\n",
              "      <td>2.037278e+01</td>\n",
              "      <td>7.992739e+00</td>\n",
              "      <td>1.426244e+01</td>\n",
              "      <td>1.776285e+01</td>\n",
              "      <td>1.149652e+01</td>\n",
              "      <td>8.374498e+00</td>\n",
              "    </tr>\n",
              "  </tbody>\n",
              "</table>\n",
              "</div>"
            ],
            "text/plain": [
              "       1.000000000000000000e+00  ...  8.766783475875854492e-01\n",
              "count              1.100000e+07  ...              1.100000e+07\n",
              "mean               5.299202e-01  ...              9.598120e-01\n",
              "std                4.991040e-01  ...              3.133378e-01\n",
              "min                0.000000e+00  ...              3.307214e-01\n",
              "25%                0.000000e+00  ...              7.703901e-01\n",
              "50%                1.000000e+00  ...              8.719701e-01\n",
              "75%                1.000000e+00  ...              1.059248e+00\n",
              "max                1.000000e+00  ...              8.374498e+00\n",
              "\n",
              "[8 rows x 29 columns]"
            ]
          },
          "metadata": {
            "tags": []
          },
          "execution_count": 7
        }
      ]
    },
    {
      "cell_type": "code",
      "metadata": {
        "id": "6XqDPcQwAHho",
        "outputId": "3f64ed35-dd16-47da-ca7a-bde7ddd5c0dc",
        "colab": {
          "base_uri": "https://localhost:8080/",
          "height": 241
        }
      },
      "source": [
        "df.head()"
      ],
      "execution_count": null,
      "outputs": [
        {
          "output_type": "execute_result",
          "data": {
            "text/html": [
              "<div>\n",
              "<style scoped>\n",
              "    .dataframe tbody tr th:only-of-type {\n",
              "        vertical-align: middle;\n",
              "    }\n",
              "\n",
              "    .dataframe tbody tr th {\n",
              "        vertical-align: top;\n",
              "    }\n",
              "\n",
              "    .dataframe thead th {\n",
              "        text-align: right;\n",
              "    }\n",
              "</style>\n",
              "<table border=\"1\" class=\"dataframe\">\n",
              "  <thead>\n",
              "    <tr style=\"text-align: right;\">\n",
              "      <th></th>\n",
              "      <th>1.000000000000000000e+00</th>\n",
              "      <th>8.692932128906250000e-01</th>\n",
              "      <th>-6.350818276405334473e-01</th>\n",
              "      <th>2.256902605295181274e-01</th>\n",
              "      <th>3.274700641632080078e-01</th>\n",
              "      <th>-6.899932026863098145e-01</th>\n",
              "      <th>7.542022466659545898e-01</th>\n",
              "      <th>-2.485731393098831177e-01</th>\n",
              "      <th>-1.092063903808593750e+00</th>\n",
              "      <th>0.000000000000000000e+00</th>\n",
              "      <th>1.374992132186889648e+00</th>\n",
              "      <th>-6.536741852760314941e-01</th>\n",
              "      <th>9.303491115570068359e-01</th>\n",
              "      <th>1.107436060905456543e+00</th>\n",
              "      <th>1.138904333114624023e+00</th>\n",
              "      <th>-1.578198313713073730e+00</th>\n",
              "      <th>-1.046985387802124023e+00</th>\n",
              "      <th>0.000000000000000000e+00.1</th>\n",
              "      <th>6.579295396804809570e-01</th>\n",
              "      <th>-1.045456994324922562e-02</th>\n",
              "      <th>-4.576716944575309753e-02</th>\n",
              "      <th>3.101961374282836914e+00</th>\n",
              "      <th>1.353760004043579102e+00</th>\n",
              "      <th>9.795631170272827148e-01</th>\n",
              "      <th>9.780761599540710449e-01</th>\n",
              "      <th>9.200048446655273438e-01</th>\n",
              "      <th>7.216574549674987793e-01</th>\n",
              "      <th>9.887509346008300781e-01</th>\n",
              "      <th>8.766783475875854492e-01</th>\n",
              "    </tr>\n",
              "  </thead>\n",
              "  <tbody>\n",
              "    <tr>\n",
              "      <th>0</th>\n",
              "      <td>1.0</td>\n",
              "      <td>0.907542</td>\n",
              "      <td>0.329147</td>\n",
              "      <td>0.359412</td>\n",
              "      <td>1.497970</td>\n",
              "      <td>-0.313010</td>\n",
              "      <td>1.095531</td>\n",
              "      <td>-0.557525</td>\n",
              "      <td>-1.588230</td>\n",
              "      <td>2.173076</td>\n",
              "      <td>0.812581</td>\n",
              "      <td>-0.213642</td>\n",
              "      <td>1.271015</td>\n",
              "      <td>2.214872</td>\n",
              "      <td>0.499994</td>\n",
              "      <td>-1.261432</td>\n",
              "      <td>0.732156</td>\n",
              "      <td>0.000000</td>\n",
              "      <td>0.398701</td>\n",
              "      <td>-1.138930</td>\n",
              "      <td>-0.000819</td>\n",
              "      <td>0.000000</td>\n",
              "      <td>0.302220</td>\n",
              "      <td>0.833048</td>\n",
              "      <td>0.985700</td>\n",
              "      <td>0.978098</td>\n",
              "      <td>0.779732</td>\n",
              "      <td>0.992356</td>\n",
              "      <td>0.798343</td>\n",
              "    </tr>\n",
              "    <tr>\n",
              "      <th>1</th>\n",
              "      <td>1.0</td>\n",
              "      <td>0.798835</td>\n",
              "      <td>1.470639</td>\n",
              "      <td>-1.635975</td>\n",
              "      <td>0.453773</td>\n",
              "      <td>0.425629</td>\n",
              "      <td>1.104875</td>\n",
              "      <td>1.282322</td>\n",
              "      <td>1.381664</td>\n",
              "      <td>0.000000</td>\n",
              "      <td>0.851737</td>\n",
              "      <td>1.540659</td>\n",
              "      <td>-0.819690</td>\n",
              "      <td>2.214872</td>\n",
              "      <td>0.993490</td>\n",
              "      <td>0.356080</td>\n",
              "      <td>-0.208778</td>\n",
              "      <td>2.548224</td>\n",
              "      <td>1.256955</td>\n",
              "      <td>1.128848</td>\n",
              "      <td>0.900461</td>\n",
              "      <td>0.000000</td>\n",
              "      <td>0.909753</td>\n",
              "      <td>1.108330</td>\n",
              "      <td>0.985692</td>\n",
              "      <td>0.951331</td>\n",
              "      <td>0.803252</td>\n",
              "      <td>0.865924</td>\n",
              "      <td>0.780118</td>\n",
              "    </tr>\n",
              "    <tr>\n",
              "      <th>2</th>\n",
              "      <td>0.0</td>\n",
              "      <td>1.344385</td>\n",
              "      <td>-0.876626</td>\n",
              "      <td>0.935913</td>\n",
              "      <td>1.992050</td>\n",
              "      <td>0.882454</td>\n",
              "      <td>1.786066</td>\n",
              "      <td>-1.646778</td>\n",
              "      <td>-0.942383</td>\n",
              "      <td>0.000000</td>\n",
              "      <td>2.423265</td>\n",
              "      <td>-0.676016</td>\n",
              "      <td>0.736159</td>\n",
              "      <td>2.214872</td>\n",
              "      <td>1.298720</td>\n",
              "      <td>-1.430738</td>\n",
              "      <td>-0.364658</td>\n",
              "      <td>0.000000</td>\n",
              "      <td>0.745313</td>\n",
              "      <td>-0.678379</td>\n",
              "      <td>-1.360356</td>\n",
              "      <td>0.000000</td>\n",
              "      <td>0.946652</td>\n",
              "      <td>1.028704</td>\n",
              "      <td>0.998656</td>\n",
              "      <td>0.728281</td>\n",
              "      <td>0.869200</td>\n",
              "      <td>1.026736</td>\n",
              "      <td>0.957904</td>\n",
              "    </tr>\n",
              "    <tr>\n",
              "      <th>3</th>\n",
              "      <td>1.0</td>\n",
              "      <td>1.105009</td>\n",
              "      <td>0.321356</td>\n",
              "      <td>1.522401</td>\n",
              "      <td>0.882808</td>\n",
              "      <td>-1.205349</td>\n",
              "      <td>0.681466</td>\n",
              "      <td>-1.070464</td>\n",
              "      <td>-0.921871</td>\n",
              "      <td>0.000000</td>\n",
              "      <td>0.800872</td>\n",
              "      <td>1.020974</td>\n",
              "      <td>0.971407</td>\n",
              "      <td>2.214872</td>\n",
              "      <td>0.596761</td>\n",
              "      <td>-0.350273</td>\n",
              "      <td>0.631194</td>\n",
              "      <td>0.000000</td>\n",
              "      <td>0.479999</td>\n",
              "      <td>-0.373566</td>\n",
              "      <td>0.113041</td>\n",
              "      <td>0.000000</td>\n",
              "      <td>0.755856</td>\n",
              "      <td>1.361057</td>\n",
              "      <td>0.986610</td>\n",
              "      <td>0.838085</td>\n",
              "      <td>1.133295</td>\n",
              "      <td>0.872245</td>\n",
              "      <td>0.808487</td>\n",
              "    </tr>\n",
              "    <tr>\n",
              "      <th>4</th>\n",
              "      <td>0.0</td>\n",
              "      <td>1.595839</td>\n",
              "      <td>-0.607811</td>\n",
              "      <td>0.007075</td>\n",
              "      <td>1.818450</td>\n",
              "      <td>-0.111906</td>\n",
              "      <td>0.847550</td>\n",
              "      <td>-0.566437</td>\n",
              "      <td>1.581239</td>\n",
              "      <td>2.173076</td>\n",
              "      <td>0.755421</td>\n",
              "      <td>0.643110</td>\n",
              "      <td>1.426367</td>\n",
              "      <td>0.000000</td>\n",
              "      <td>0.921661</td>\n",
              "      <td>-1.190432</td>\n",
              "      <td>-1.615589</td>\n",
              "      <td>0.000000</td>\n",
              "      <td>0.651114</td>\n",
              "      <td>-0.654227</td>\n",
              "      <td>-1.274345</td>\n",
              "      <td>3.101961</td>\n",
              "      <td>0.823761</td>\n",
              "      <td>0.938191</td>\n",
              "      <td>0.971758</td>\n",
              "      <td>0.789176</td>\n",
              "      <td>0.430553</td>\n",
              "      <td>0.961357</td>\n",
              "      <td>0.957818</td>\n",
              "    </tr>\n",
              "  </tbody>\n",
              "</table>\n",
              "</div>"
            ],
            "text/plain": [
              "   1.000000000000000000e+00  ...  8.766783475875854492e-01\n",
              "0                       1.0  ...                  0.798343\n",
              "1                       1.0  ...                  0.780118\n",
              "2                       0.0  ...                  0.957904\n",
              "3                       1.0  ...                  0.808487\n",
              "4                       0.0  ...                  0.957818\n",
              "\n",
              "[5 rows x 29 columns]"
            ]
          },
          "metadata": {
            "tags": []
          },
          "execution_count": 8
        }
      ]
    },
    {
      "cell_type": "code",
      "metadata": {
        "id": "MlDEJmVPECRO",
        "outputId": "180fe2e1-51c4-4c49-84ff-fc9530df6685",
        "colab": {
          "base_uri": "https://localhost:8080/",
          "height": 34
        }
      },
      "source": [
        "len(df.keys())"
      ],
      "execution_count": null,
      "outputs": [
        {
          "output_type": "execute_result",
          "data": {
            "text/plain": [
              "29"
            ]
          },
          "metadata": {
            "tags": []
          },
          "execution_count": 9
        }
      ]
    },
    {
      "cell_type": "code",
      "metadata": {
        "id": "xsAz5xW_AJra"
      },
      "source": [
        "train_data , test_data = train_test_split(df,test_size=0.4,random_state=13, shuffle=True)"
      ],
      "execution_count": null,
      "outputs": []
    },
    {
      "cell_type": "code",
      "metadata": {
        "id": "_gCOAzwrBX3Y"
      },
      "source": [
        "test_data , valid_data = train_test_split(test_data,test_size=0.5,random_state=13, shuffle=True)"
      ],
      "execution_count": null,
      "outputs": []
    },
    {
      "cell_type": "code",
      "metadata": {
        "id": "2LLI5PTjCjQx",
        "outputId": "9fee58f6-6de7-4f2f-ed0f-ff12878128a0",
        "colab": {
          "base_uri": "https://localhost:8080/",
          "height": 221
        }
      },
      "source": [
        "train_data['1.000000000000000000e+00'] # lol so this is our label .. actually it should be named label but when converting to csv we it has taken\n",
        "# the first value as the column name"
      ],
      "execution_count": null,
      "outputs": [
        {
          "output_type": "execute_result",
          "data": {
            "text/plain": [
              "5019430     1.0\n",
              "7015960     0.0\n",
              "9221740     0.0\n",
              "10620783    1.0\n",
              "4705292     1.0\n",
              "           ... \n",
              "10126178    1.0\n",
              "256742      1.0\n",
              "253456      0.0\n",
              "8042672     0.0\n",
              "1540434     1.0\n",
              "Name: 1.000000000000000000e+00, Length: 6599999, dtype: float64"
            ]
          },
          "metadata": {
            "tags": []
          },
          "execution_count": 12
        }
      ]
    },
    {
      "cell_type": "code",
      "metadata": {
        "id": "p9udxLKiBn9R"
      },
      "source": [
        "train_labels = train_data['1.000000000000000000e+00']\n",
        "test_labels = test_data['1.000000000000000000e+00']\n",
        "valid_labels = valid_data['1.000000000000000000e+00']"
      ],
      "execution_count": null,
      "outputs": []
    },
    {
      "cell_type": "code",
      "metadata": {
        "id": "5oXOXZVTCaPm"
      },
      "source": [
        "del train_data['1.000000000000000000e+00']\n",
        "train_features = train_data ;\n",
        "del test_data['1.000000000000000000e+00']\n",
        "test_features = test_data;\n",
        "del valid_data['1.000000000000000000e+00']\n",
        "valid_features = valid_data;"
      ],
      "execution_count": null,
      "outputs": []
    },
    {
      "cell_type": "code",
      "metadata": {
        "id": "HPf83W_BG-dB",
        "outputId": "79afed27-dc69-436e-d2d2-f6d5b3e910ba",
        "colab": {
          "base_uri": "https://localhost:8080/",
          "height": 456
        }
      },
      "source": [
        "train_features"
      ],
      "execution_count": null,
      "outputs": [
        {
          "output_type": "execute_result",
          "data": {
            "text/html": [
              "<div>\n",
              "<style scoped>\n",
              "    .dataframe tbody tr th:only-of-type {\n",
              "        vertical-align: middle;\n",
              "    }\n",
              "\n",
              "    .dataframe tbody tr th {\n",
              "        vertical-align: top;\n",
              "    }\n",
              "\n",
              "    .dataframe thead th {\n",
              "        text-align: right;\n",
              "    }\n",
              "</style>\n",
              "<table border=\"1\" class=\"dataframe\">\n",
              "  <thead>\n",
              "    <tr style=\"text-align: right;\">\n",
              "      <th></th>\n",
              "      <th>8.692932128906250000e-01</th>\n",
              "      <th>-6.350818276405334473e-01</th>\n",
              "      <th>2.256902605295181274e-01</th>\n",
              "      <th>3.274700641632080078e-01</th>\n",
              "      <th>-6.899932026863098145e-01</th>\n",
              "      <th>7.542022466659545898e-01</th>\n",
              "      <th>-2.485731393098831177e-01</th>\n",
              "      <th>-1.092063903808593750e+00</th>\n",
              "      <th>0.000000000000000000e+00</th>\n",
              "      <th>1.374992132186889648e+00</th>\n",
              "      <th>-6.536741852760314941e-01</th>\n",
              "      <th>9.303491115570068359e-01</th>\n",
              "      <th>1.107436060905456543e+00</th>\n",
              "      <th>1.138904333114624023e+00</th>\n",
              "      <th>-1.578198313713073730e+00</th>\n",
              "      <th>-1.046985387802124023e+00</th>\n",
              "      <th>0.000000000000000000e+00.1</th>\n",
              "      <th>6.579295396804809570e-01</th>\n",
              "      <th>-1.045456994324922562e-02</th>\n",
              "      <th>-4.576716944575309753e-02</th>\n",
              "      <th>3.101961374282836914e+00</th>\n",
              "      <th>1.353760004043579102e+00</th>\n",
              "      <th>9.795631170272827148e-01</th>\n",
              "      <th>9.780761599540710449e-01</th>\n",
              "      <th>9.200048446655273438e-01</th>\n",
              "      <th>7.216574549674987793e-01</th>\n",
              "      <th>9.887509346008300781e-01</th>\n",
              "      <th>8.766783475875854492e-01</th>\n",
              "    </tr>\n",
              "  </thead>\n",
              "  <tbody>\n",
              "    <tr>\n",
              "      <th>5019430</th>\n",
              "      <td>0.326305</td>\n",
              "      <td>-1.671384</td>\n",
              "      <td>-0.431368</td>\n",
              "      <td>0.779646</td>\n",
              "      <td>0.166407</td>\n",
              "      <td>1.101394</td>\n",
              "      <td>0.019779</td>\n",
              "      <td>-0.862553</td>\n",
              "      <td>2.173076</td>\n",
              "      <td>0.919473</td>\n",
              "      <td>0.159366</td>\n",
              "      <td>0.702869</td>\n",
              "      <td>0.000000</td>\n",
              "      <td>1.172097</td>\n",
              "      <td>0.478053</td>\n",
              "      <td>-1.573984</td>\n",
              "      <td>2.548224</td>\n",
              "      <td>0.600972</td>\n",
              "      <td>-1.052317</td>\n",
              "      <td>1.035859</td>\n",
              "      <td>0.000000</td>\n",
              "      <td>0.804350</td>\n",
              "      <td>0.981400</td>\n",
              "      <td>0.981542</td>\n",
              "      <td>0.900358</td>\n",
              "      <td>0.920311</td>\n",
              "      <td>0.923145</td>\n",
              "      <td>0.813230</td>\n",
              "    </tr>\n",
              "    <tr>\n",
              "      <th>7015960</th>\n",
              "      <td>1.615055</td>\n",
              "      <td>0.435310</td>\n",
              "      <td>-0.327609</td>\n",
              "      <td>0.300005</td>\n",
              "      <td>-1.127521</td>\n",
              "      <td>0.671115</td>\n",
              "      <td>-0.144599</td>\n",
              "      <td>1.529682</td>\n",
              "      <td>0.000000</td>\n",
              "      <td>0.903358</td>\n",
              "      <td>0.172965</td>\n",
              "      <td>-1.236922</td>\n",
              "      <td>2.214872</td>\n",
              "      <td>1.396892</td>\n",
              "      <td>-0.488631</td>\n",
              "      <td>0.592918</td>\n",
              "      <td>2.548224</td>\n",
              "      <td>0.506043</td>\n",
              "      <td>1.421169</td>\n",
              "      <td>0.483722</td>\n",
              "      <td>0.000000</td>\n",
              "      <td>1.190240</td>\n",
              "      <td>0.952138</td>\n",
              "      <td>0.990981</td>\n",
              "      <td>0.958508</td>\n",
              "      <td>1.267405</td>\n",
              "      <td>0.848970</td>\n",
              "      <td>0.821411</td>\n",
              "    </tr>\n",
              "    <tr>\n",
              "      <th>9221740</th>\n",
              "      <td>0.454595</td>\n",
              "      <td>1.162865</td>\n",
              "      <td>0.503676</td>\n",
              "      <td>0.901221</td>\n",
              "      <td>-1.630384</td>\n",
              "      <td>1.054399</td>\n",
              "      <td>-0.148560</td>\n",
              "      <td>0.893814</td>\n",
              "      <td>2.173076</td>\n",
              "      <td>0.896181</td>\n",
              "      <td>-1.626990</td>\n",
              "      <td>-0.187181</td>\n",
              "      <td>0.000000</td>\n",
              "      <td>1.198791</td>\n",
              "      <td>-0.931012</td>\n",
              "      <td>-0.755195</td>\n",
              "      <td>1.274112</td>\n",
              "      <td>1.377928</td>\n",
              "      <td>-1.097289</td>\n",
              "      <td>-1.511292</td>\n",
              "      <td>0.000000</td>\n",
              "      <td>1.370454</td>\n",
              "      <td>0.926460</td>\n",
              "      <td>0.989845</td>\n",
              "      <td>0.859232</td>\n",
              "      <td>1.531737</td>\n",
              "      <td>1.107181</td>\n",
              "      <td>1.036541</td>\n",
              "    </tr>\n",
              "    <tr>\n",
              "      <th>10620783</th>\n",
              "      <td>0.545733</td>\n",
              "      <td>2.020931</td>\n",
              "      <td>-1.072791</td>\n",
              "      <td>1.976279</td>\n",
              "      <td>-0.847698</td>\n",
              "      <td>0.846267</td>\n",
              "      <td>0.052457</td>\n",
              "      <td>0.971981</td>\n",
              "      <td>2.173076</td>\n",
              "      <td>0.402891</td>\n",
              "      <td>0.035030</td>\n",
              "      <td>0.216838</td>\n",
              "      <td>0.000000</td>\n",
              "      <td>0.930793</td>\n",
              "      <td>0.343337</td>\n",
              "      <td>1.508786</td>\n",
              "      <td>0.000000</td>\n",
              "      <td>0.730708</td>\n",
              "      <td>0.829864</td>\n",
              "      <td>-0.115686</td>\n",
              "      <td>3.101961</td>\n",
              "      <td>0.877631</td>\n",
              "      <td>0.689722</td>\n",
              "      <td>0.981505</td>\n",
              "      <td>0.624255</td>\n",
              "      <td>0.802501</td>\n",
              "      <td>0.942779</td>\n",
              "      <td>0.814237</td>\n",
              "    </tr>\n",
              "    <tr>\n",
              "      <th>4705292</th>\n",
              "      <td>0.548661</td>\n",
              "      <td>0.156755</td>\n",
              "      <td>1.167845</td>\n",
              "      <td>0.806377</td>\n",
              "      <td>1.651381</td>\n",
              "      <td>0.862665</td>\n",
              "      <td>-0.671401</td>\n",
              "      <td>-1.230103</td>\n",
              "      <td>0.000000</td>\n",
              "      <td>1.298820</td>\n",
              "      <td>-0.514768</td>\n",
              "      <td>0.816609</td>\n",
              "      <td>2.214872</td>\n",
              "      <td>0.750430</td>\n",
              "      <td>-1.483533</td>\n",
              "      <td>-0.632043</td>\n",
              "      <td>0.000000</td>\n",
              "      <td>0.730708</td>\n",
              "      <td>-1.973419</td>\n",
              "      <td>0.189064</td>\n",
              "      <td>0.000000</td>\n",
              "      <td>1.031222</td>\n",
              "      <td>0.917589</td>\n",
              "      <td>0.986105</td>\n",
              "      <td>1.295718</td>\n",
              "      <td>0.800328</td>\n",
              "      <td>0.933544</td>\n",
              "      <td>1.122819</td>\n",
              "    </tr>\n",
              "    <tr>\n",
              "      <th>...</th>\n",
              "      <td>...</td>\n",
              "      <td>...</td>\n",
              "      <td>...</td>\n",
              "      <td>...</td>\n",
              "      <td>...</td>\n",
              "      <td>...</td>\n",
              "      <td>...</td>\n",
              "      <td>...</td>\n",
              "      <td>...</td>\n",
              "      <td>...</td>\n",
              "      <td>...</td>\n",
              "      <td>...</td>\n",
              "      <td>...</td>\n",
              "      <td>...</td>\n",
              "      <td>...</td>\n",
              "      <td>...</td>\n",
              "      <td>...</td>\n",
              "      <td>...</td>\n",
              "      <td>...</td>\n",
              "      <td>...</td>\n",
              "      <td>...</td>\n",
              "      <td>...</td>\n",
              "      <td>...</td>\n",
              "      <td>...</td>\n",
              "      <td>...</td>\n",
              "      <td>...</td>\n",
              "      <td>...</td>\n",
              "      <td>...</td>\n",
              "    </tr>\n",
              "    <tr>\n",
              "      <th>10126178</th>\n",
              "      <td>0.774128</td>\n",
              "      <td>-1.228229</td>\n",
              "      <td>-0.674400</td>\n",
              "      <td>0.556210</td>\n",
              "      <td>0.609636</td>\n",
              "      <td>1.508588</td>\n",
              "      <td>-0.948666</td>\n",
              "      <td>0.759101</td>\n",
              "      <td>2.173076</td>\n",
              "      <td>0.686678</td>\n",
              "      <td>-1.125762</td>\n",
              "      <td>-1.153142</td>\n",
              "      <td>0.000000</td>\n",
              "      <td>1.437461</td>\n",
              "      <td>-0.286555</td>\n",
              "      <td>-1.412556</td>\n",
              "      <td>0.000000</td>\n",
              "      <td>0.441054</td>\n",
              "      <td>-0.157864</td>\n",
              "      <td>-0.625098</td>\n",
              "      <td>3.101961</td>\n",
              "      <td>0.750636</td>\n",
              "      <td>0.519385</td>\n",
              "      <td>0.987660</td>\n",
              "      <td>0.984528</td>\n",
              "      <td>0.886306</td>\n",
              "      <td>0.980818</td>\n",
              "      <td>0.824506</td>\n",
              "    </tr>\n",
              "    <tr>\n",
              "      <th>256742</th>\n",
              "      <td>1.514766</td>\n",
              "      <td>-0.186082</td>\n",
              "      <td>-1.488382</td>\n",
              "      <td>0.930077</td>\n",
              "      <td>-0.260136</td>\n",
              "      <td>1.517840</td>\n",
              "      <td>-0.517916</td>\n",
              "      <td>0.708653</td>\n",
              "      <td>2.173076</td>\n",
              "      <td>0.610002</td>\n",
              "      <td>0.366268</td>\n",
              "      <td>-0.863521</td>\n",
              "      <td>0.000000</td>\n",
              "      <td>0.697392</td>\n",
              "      <td>-1.365200</td>\n",
              "      <td>-0.615956</td>\n",
              "      <td>0.000000</td>\n",
              "      <td>0.541337</td>\n",
              "      <td>-0.578440</td>\n",
              "      <td>0.317248</td>\n",
              "      <td>0.000000</td>\n",
              "      <td>0.778130</td>\n",
              "      <td>1.178569</td>\n",
              "      <td>1.471057</td>\n",
              "      <td>0.899749</td>\n",
              "      <td>1.111299</td>\n",
              "      <td>1.031716</td>\n",
              "      <td>0.854017</td>\n",
              "    </tr>\n",
              "    <tr>\n",
              "      <th>253456</th>\n",
              "      <td>3.128724</td>\n",
              "      <td>-0.910715</td>\n",
              "      <td>0.382161</td>\n",
              "      <td>0.769896</td>\n",
              "      <td>-0.400057</td>\n",
              "      <td>1.422202</td>\n",
              "      <td>0.694126</td>\n",
              "      <td>-1.419145</td>\n",
              "      <td>0.000000</td>\n",
              "      <td>0.592880</td>\n",
              "      <td>-0.046566</td>\n",
              "      <td>-1.210290</td>\n",
              "      <td>2.214872</td>\n",
              "      <td>0.460479</td>\n",
              "      <td>-1.184971</td>\n",
              "      <td>-1.600057</td>\n",
              "      <td>0.000000</td>\n",
              "      <td>0.870911</td>\n",
              "      <td>-1.464564</td>\n",
              "      <td>0.275075</td>\n",
              "      <td>0.000000</td>\n",
              "      <td>0.712013</td>\n",
              "      <td>0.773868</td>\n",
              "      <td>1.391960</td>\n",
              "      <td>0.998785</td>\n",
              "      <td>0.531512</td>\n",
              "      <td>0.874830</td>\n",
              "      <td>0.758236</td>\n",
              "    </tr>\n",
              "    <tr>\n",
              "      <th>8042672</th>\n",
              "      <td>1.610114</td>\n",
              "      <td>-0.139332</td>\n",
              "      <td>-1.642078</td>\n",
              "      <td>0.572569</td>\n",
              "      <td>-0.193804</td>\n",
              "      <td>0.800922</td>\n",
              "      <td>-0.141628</td>\n",
              "      <td>-0.341991</td>\n",
              "      <td>0.000000</td>\n",
              "      <td>0.791933</td>\n",
              "      <td>-0.151474</td>\n",
              "      <td>0.480937</td>\n",
              "      <td>1.107436</td>\n",
              "      <td>0.575336</td>\n",
              "      <td>1.117958</td>\n",
              "      <td>0.988999</td>\n",
              "      <td>0.000000</td>\n",
              "      <td>0.788883</td>\n",
              "      <td>0.642479</td>\n",
              "      <td>0.682380</td>\n",
              "      <td>0.000000</td>\n",
              "      <td>1.125667</td>\n",
              "      <td>0.944352</td>\n",
              "      <td>1.283742</td>\n",
              "      <td>0.934810</td>\n",
              "      <td>0.872692</td>\n",
              "      <td>0.706549</td>\n",
              "      <td>0.726338</td>\n",
              "    </tr>\n",
              "    <tr>\n",
              "      <th>1540434</th>\n",
              "      <td>0.451849</td>\n",
              "      <td>1.470639</td>\n",
              "      <td>0.720627</td>\n",
              "      <td>0.620751</td>\n",
              "      <td>1.418002</td>\n",
              "      <td>1.262806</td>\n",
              "      <td>0.500041</td>\n",
              "      <td>-0.949589</td>\n",
              "      <td>0.000000</td>\n",
              "      <td>0.811196</td>\n",
              "      <td>0.474091</td>\n",
              "      <td>-1.681895</td>\n",
              "      <td>2.214872</td>\n",
              "      <td>0.617836</td>\n",
              "      <td>1.569442</td>\n",
              "      <td>0.200165</td>\n",
              "      <td>0.000000</td>\n",
              "      <td>0.682757</td>\n",
              "      <td>0.841524</td>\n",
              "      <td>0.473179</td>\n",
              "      <td>1.550981</td>\n",
              "      <td>0.797146</td>\n",
              "      <td>0.842926</td>\n",
              "      <td>0.995041</td>\n",
              "      <td>0.565383</td>\n",
              "      <td>0.650620</td>\n",
              "      <td>0.635268</td>\n",
              "      <td>0.652513</td>\n",
              "    </tr>\n",
              "  </tbody>\n",
              "</table>\n",
              "<p>6599999 rows × 28 columns</p>\n",
              "</div>"
            ],
            "text/plain": [
              "          8.692932128906250000e-01  ...  8.766783475875854492e-01\n",
              "5019430                   0.326305  ...                  0.813230\n",
              "7015960                   1.615055  ...                  0.821411\n",
              "9221740                   0.454595  ...                  1.036541\n",
              "10620783                  0.545733  ...                  0.814237\n",
              "4705292                   0.548661  ...                  1.122819\n",
              "...                            ...  ...                       ...\n",
              "10126178                  0.774128  ...                  0.824506\n",
              "256742                    1.514766  ...                  0.854017\n",
              "253456                    3.128724  ...                  0.758236\n",
              "8042672                   1.610114  ...                  0.726338\n",
              "1540434                   0.451849  ...                  0.652513\n",
              "\n",
              "[6599999 rows x 28 columns]"
            ]
          },
          "metadata": {
            "tags": []
          },
          "execution_count": 15
        }
      ]
    },
    {
      "cell_type": "code",
      "metadata": {
        "id": "U38578ZvF7ps"
      },
      "source": [
        "#for refrence purpose just visiting the previous project i made"
      ],
      "execution_count": null,
      "outputs": []
    },
    {
      "cell_type": "code",
      "metadata": {
        "id": "r8Bz0ts6CpqM"
      },
      "source": [
        "# so do we convert data into csv and save it again ..? cause its really large .... so maybe we just keep it like that"
      ],
      "execution_count": null,
      "outputs": []
    },
    {
      "cell_type": "code",
      "metadata": {
        "id": "QpmXnvciDshW"
      },
      "source": [
        "train_features = pd.DataFrame(train_features).to_numpy()\n",
        "test_features = pd.DataFrame(test_features).to_numpy()\n",
        "valid_features= pd.DataFrame(valid_features).to_numpy()"
      ],
      "execution_count": null,
      "outputs": []
    },
    {
      "cell_type": "code",
      "metadata": {
        "id": "FglBqjgpD3lf"
      },
      "source": [
        "train_labels = pd.DataFrame(train_labels).to_numpy()\n",
        "valid_labels = pd.DataFrame(valid_labels).to_numpy()\n",
        "test_labels = pd.DataFrame(test_labels).to_numpy()"
      ],
      "execution_count": null,
      "outputs": []
    },
    {
      "cell_type": "code",
      "metadata": {
        "id": "zDDQXGPGDp0t",
        "outputId": "ae5c6d43-0d7b-44a0-addd-4c5837ec552c",
        "colab": {
          "base_uri": "https://localhost:8080/",
          "height": 34
        }
      },
      "source": [
        "train_features.shape"
      ],
      "execution_count": null,
      "outputs": [
        {
          "output_type": "execute_result",
          "data": {
            "text/plain": [
              "(6599999, 28)"
            ]
          },
          "metadata": {
            "tags": []
          },
          "execution_count": 20
        }
      ]
    },
    {
      "cell_type": "code",
      "metadata": {
        "id": "6WYYjKIZDTCE"
      },
      "source": [
        "def model_1():\n",
        "  model = tf.keras.Sequential([\n",
        "                               tf.keras.layers.Dense(128,activation='relu',input_shape=(28,)),\n",
        "                               tf.keras.layers.Dense(256,activation='relu',name='256_1'),\n",
        "                               tf.keras.layers.BatchNormalization(),\n",
        "                               tf.keras.layers.Dense(512,activation='relu',name='512_1'),\n",
        "                               tf.keras.layers.Dropout(0.15),\n",
        "                               tf.keras.layers.Dense(256,activation='relu',name='256_2'),\n",
        "                               tf.keras.layers.Dropout(0.1),\n",
        "                               tf.keras.layers.Dense(64,activation='relu',name='64_1'),\n",
        "                               tf.keras.layers.Dense(1,activation='softmax',name='last'),\n",
        "  ])\n",
        "\n",
        "  model.compile(loss='categorical_crossentropy',optimizer='adam',metrics=['accuracy'])\n",
        "  model.summary()\n",
        "  return model \n"
      ],
      "execution_count": null,
      "outputs": []
    },
    {
      "cell_type": "code",
      "metadata": {
        "id": "AYu7DxW_IxED",
        "outputId": "54df11dd-5b2b-4cea-a454-75fad7c1c28f",
        "colab": {
          "base_uri": "https://localhost:8080/",
          "height": 459
        }
      },
      "source": [
        "model1 = model_1()"
      ],
      "execution_count": null,
      "outputs": [
        {
          "output_type": "stream",
          "text": [
            "Model: \"sequential\"\n",
            "_________________________________________________________________\n",
            "Layer (type)                 Output Shape              Param #   \n",
            "=================================================================\n",
            "dense (Dense)                (None, 128)               3712      \n",
            "_________________________________________________________________\n",
            "256_1 (Dense)                (None, 256)               33024     \n",
            "_________________________________________________________________\n",
            "batch_normalization (BatchNo (None, 256)               1024      \n",
            "_________________________________________________________________\n",
            "512_1 (Dense)                (None, 512)               131584    \n",
            "_________________________________________________________________\n",
            "dropout (Dropout)            (None, 512)               0         \n",
            "_________________________________________________________________\n",
            "256_2 (Dense)                (None, 256)               131328    \n",
            "_________________________________________________________________\n",
            "dropout_1 (Dropout)          (None, 256)               0         \n",
            "_________________________________________________________________\n",
            "64_1 (Dense)                 (None, 64)                16448     \n",
            "_________________________________________________________________\n",
            "last (Dense)                 (None, 1)                 65        \n",
            "=================================================================\n",
            "Total params: 317,185\n",
            "Trainable params: 316,673\n",
            "Non-trainable params: 512\n",
            "_________________________________________________________________\n"
          ],
          "name": "stdout"
        }
      ]
    },
    {
      "cell_type": "code",
      "metadata": {
        "id": "IZfDiq4KKWvw",
        "outputId": "5b5c0b47-8c48-4f26-c662-a51ac62b7b64",
        "colab": {
          "base_uri": "https://localhost:8080/",
          "height": 34
        }
      },
      "source": [
        "#os.mkdir('drive/My Drive/Projects/HIGGS/model1/run1')\n",
        "os.listdir('drive/My Drive/Projects/HIGGS')"
      ],
      "execution_count": null,
      "outputs": [
        {
          "output_type": "execute_result",
          "data": {
            "text/plain": [
              "['model1', 'Higgs.csv']"
            ]
          },
          "metadata": {
            "tags": []
          },
          "execution_count": 23
        }
      ]
    },
    {
      "cell_type": "code",
      "metadata": {
        "id": "79EDjMwnKFWe"
      },
      "source": [
        "checkpoint_path = 'drive/My Drive/Projects/HIGGS/model1/run1/cp-{epoch:04d}.ckpt'\n",
        "cp_callback = tf.keras.callbacks.ModelCheckpoint(checkpoint_path,monitor='val_loss',save_weights_only=True,save_freq='epoch')"
      ],
      "execution_count": null,
      "outputs": []
    },
    {
      "cell_type": "code",
      "metadata": {
        "id": "I9JpCs6pK8ij"
      },
      "source": [
        "# so after runnin this i might stop the stream cause its gonna take long .. very long ... "
      ],
      "execution_count": null,
      "outputs": []
    },
    {
      "cell_type": "code",
      "metadata": {
        "id": "aVLJj-pyI4Ft",
        "outputId": "60691a21-6ce6-41eb-ef17-8d2ae14c8e8e",
        "colab": {
          "base_uri": "https://localhost:8080/",
          "height": 527
        }
      },
      "source": [
        "%%time\n",
        "history1 = model1.fit(train_features,train_labels,epochs=25,validation_data=(valid_features,valid_labels),callbacks=[cp_callback])"
      ],
      "execution_count": null,
      "outputs": [
        {
          "output_type": "stream",
          "text": [
            "Epoch 1/25\n",
            "206250/206250 [==============================] - 1244s 6ms/step - loss: nan - accuracy: 0.5072 - val_loss: nan - val_accuracy: 0.4706\n",
            "Epoch 2/25\n",
            "206250/206250 [==============================] - 1240s 6ms/step - loss: nan - accuracy: 0.4701 - val_loss: nan - val_accuracy: 0.4706\n",
            "Epoch 3/25\n",
            "206250/206250 [==============================] - 1254s 6ms/step - loss: nan - accuracy: 0.4701 - val_loss: nan - val_accuracy: 0.4706\n",
            "Epoch 4/25\n",
            " 27269/206250 [==>...........................] - ETA: 17:01 - loss: nan - accuracy: 0.4695"
          ],
          "name": "stdout"
        },
        {
          "output_type": "error",
          "ename": "KeyboardInterrupt",
          "evalue": "ignored",
          "traceback": [
            "\u001b[0;31m---------------------------------------------------------------------------\u001b[0m",
            "\u001b[0;31mKeyboardInterrupt\u001b[0m                         Traceback (most recent call last)",
            "\u001b[0;32m<ipython-input-26-2c496e1a7cc2>\u001b[0m in \u001b[0;36m<module>\u001b[0;34m()\u001b[0m\n\u001b[0;32m----> 1\u001b[0;31m \u001b[0mget_ipython\u001b[0m\u001b[0;34m(\u001b[0m\u001b[0;34m)\u001b[0m\u001b[0;34m.\u001b[0m\u001b[0mrun_cell_magic\u001b[0m\u001b[0;34m(\u001b[0m\u001b[0;34m'time'\u001b[0m\u001b[0;34m,\u001b[0m \u001b[0;34m''\u001b[0m\u001b[0;34m,\u001b[0m \u001b[0;34m'history1 = model1.fit(train_features,train_labels,epochs=25,validation_data=(valid_features,valid_labels),callbacks=[cp_callback])'\u001b[0m\u001b[0;34m)\u001b[0m\u001b[0;34m\u001b[0m\u001b[0;34m\u001b[0m\u001b[0m\n\u001b[0m",
            "\u001b[0;32m/usr/local/lib/python3.6/dist-packages/IPython/core/interactiveshell.py\u001b[0m in \u001b[0;36mrun_cell_magic\u001b[0;34m(self, magic_name, line, cell)\u001b[0m\n\u001b[1;32m   2115\u001b[0m             \u001b[0mmagic_arg_s\u001b[0m \u001b[0;34m=\u001b[0m \u001b[0mself\u001b[0m\u001b[0;34m.\u001b[0m\u001b[0mvar_expand\u001b[0m\u001b[0;34m(\u001b[0m\u001b[0mline\u001b[0m\u001b[0;34m,\u001b[0m \u001b[0mstack_depth\u001b[0m\u001b[0;34m)\u001b[0m\u001b[0;34m\u001b[0m\u001b[0;34m\u001b[0m\u001b[0m\n\u001b[1;32m   2116\u001b[0m             \u001b[0;32mwith\u001b[0m \u001b[0mself\u001b[0m\u001b[0;34m.\u001b[0m\u001b[0mbuiltin_trap\u001b[0m\u001b[0;34m:\u001b[0m\u001b[0;34m\u001b[0m\u001b[0;34m\u001b[0m\u001b[0m\n\u001b[0;32m-> 2117\u001b[0;31m                 \u001b[0mresult\u001b[0m \u001b[0;34m=\u001b[0m \u001b[0mfn\u001b[0m\u001b[0;34m(\u001b[0m\u001b[0mmagic_arg_s\u001b[0m\u001b[0;34m,\u001b[0m \u001b[0mcell\u001b[0m\u001b[0;34m)\u001b[0m\u001b[0;34m\u001b[0m\u001b[0;34m\u001b[0m\u001b[0m\n\u001b[0m\u001b[1;32m   2118\u001b[0m             \u001b[0;32mreturn\u001b[0m \u001b[0mresult\u001b[0m\u001b[0;34m\u001b[0m\u001b[0;34m\u001b[0m\u001b[0m\n\u001b[1;32m   2119\u001b[0m \u001b[0;34m\u001b[0m\u001b[0m\n",
            "\u001b[0;32m<decorator-gen-60>\u001b[0m in \u001b[0;36mtime\u001b[0;34m(self, line, cell, local_ns)\u001b[0m\n",
            "\u001b[0;32m/usr/local/lib/python3.6/dist-packages/IPython/core/magic.py\u001b[0m in \u001b[0;36m<lambda>\u001b[0;34m(f, *a, **k)\u001b[0m\n\u001b[1;32m    186\u001b[0m     \u001b[0;31m# but it's overkill for just that one bit of state.\u001b[0m\u001b[0;34m\u001b[0m\u001b[0;34m\u001b[0m\u001b[0;34m\u001b[0m\u001b[0m\n\u001b[1;32m    187\u001b[0m     \u001b[0;32mdef\u001b[0m \u001b[0mmagic_deco\u001b[0m\u001b[0;34m(\u001b[0m\u001b[0marg\u001b[0m\u001b[0;34m)\u001b[0m\u001b[0;34m:\u001b[0m\u001b[0;34m\u001b[0m\u001b[0;34m\u001b[0m\u001b[0m\n\u001b[0;32m--> 188\u001b[0;31m         \u001b[0mcall\u001b[0m \u001b[0;34m=\u001b[0m \u001b[0;32mlambda\u001b[0m \u001b[0mf\u001b[0m\u001b[0;34m,\u001b[0m \u001b[0;34m*\u001b[0m\u001b[0ma\u001b[0m\u001b[0;34m,\u001b[0m \u001b[0;34m**\u001b[0m\u001b[0mk\u001b[0m\u001b[0;34m:\u001b[0m \u001b[0mf\u001b[0m\u001b[0;34m(\u001b[0m\u001b[0;34m*\u001b[0m\u001b[0ma\u001b[0m\u001b[0;34m,\u001b[0m \u001b[0;34m**\u001b[0m\u001b[0mk\u001b[0m\u001b[0;34m)\u001b[0m\u001b[0;34m\u001b[0m\u001b[0;34m\u001b[0m\u001b[0m\n\u001b[0m\u001b[1;32m    189\u001b[0m \u001b[0;34m\u001b[0m\u001b[0m\n\u001b[1;32m    190\u001b[0m         \u001b[0;32mif\u001b[0m \u001b[0mcallable\u001b[0m\u001b[0;34m(\u001b[0m\u001b[0marg\u001b[0m\u001b[0;34m)\u001b[0m\u001b[0;34m:\u001b[0m\u001b[0;34m\u001b[0m\u001b[0;34m\u001b[0m\u001b[0m\n",
            "\u001b[0;32m/usr/local/lib/python3.6/dist-packages/IPython/core/magics/execution.py\u001b[0m in \u001b[0;36mtime\u001b[0;34m(self, line, cell, local_ns)\u001b[0m\n\u001b[1;32m   1191\u001b[0m         \u001b[0;32melse\u001b[0m\u001b[0;34m:\u001b[0m\u001b[0;34m\u001b[0m\u001b[0;34m\u001b[0m\u001b[0m\n\u001b[1;32m   1192\u001b[0m             \u001b[0mst\u001b[0m \u001b[0;34m=\u001b[0m \u001b[0mclock2\u001b[0m\u001b[0;34m(\u001b[0m\u001b[0;34m)\u001b[0m\u001b[0;34m\u001b[0m\u001b[0;34m\u001b[0m\u001b[0m\n\u001b[0;32m-> 1193\u001b[0;31m             \u001b[0mexec\u001b[0m\u001b[0;34m(\u001b[0m\u001b[0mcode\u001b[0m\u001b[0;34m,\u001b[0m \u001b[0mglob\u001b[0m\u001b[0;34m,\u001b[0m \u001b[0mlocal_ns\u001b[0m\u001b[0;34m)\u001b[0m\u001b[0;34m\u001b[0m\u001b[0;34m\u001b[0m\u001b[0m\n\u001b[0m\u001b[1;32m   1194\u001b[0m             \u001b[0mend\u001b[0m \u001b[0;34m=\u001b[0m \u001b[0mclock2\u001b[0m\u001b[0;34m(\u001b[0m\u001b[0;34m)\u001b[0m\u001b[0;34m\u001b[0m\u001b[0;34m\u001b[0m\u001b[0m\n\u001b[1;32m   1195\u001b[0m             \u001b[0mout\u001b[0m \u001b[0;34m=\u001b[0m \u001b[0;32mNone\u001b[0m\u001b[0;34m\u001b[0m\u001b[0;34m\u001b[0m\u001b[0m\n",
            "\u001b[0;32m<timed exec>\u001b[0m in \u001b[0;36m<module>\u001b[0;34m()\u001b[0m\n",
            "\u001b[0;32m/usr/local/lib/python3.6/dist-packages/tensorflow/python/keras/engine/training.py\u001b[0m in \u001b[0;36m_method_wrapper\u001b[0;34m(self, *args, **kwargs)\u001b[0m\n\u001b[1;32m    106\u001b[0m   \u001b[0;32mdef\u001b[0m \u001b[0m_method_wrapper\u001b[0m\u001b[0;34m(\u001b[0m\u001b[0mself\u001b[0m\u001b[0;34m,\u001b[0m \u001b[0;34m*\u001b[0m\u001b[0margs\u001b[0m\u001b[0;34m,\u001b[0m \u001b[0;34m**\u001b[0m\u001b[0mkwargs\u001b[0m\u001b[0;34m)\u001b[0m\u001b[0;34m:\u001b[0m\u001b[0;34m\u001b[0m\u001b[0;34m\u001b[0m\u001b[0m\n\u001b[1;32m    107\u001b[0m     \u001b[0;32mif\u001b[0m \u001b[0;32mnot\u001b[0m \u001b[0mself\u001b[0m\u001b[0;34m.\u001b[0m\u001b[0m_in_multi_worker_mode\u001b[0m\u001b[0;34m(\u001b[0m\u001b[0;34m)\u001b[0m\u001b[0;34m:\u001b[0m  \u001b[0;31m# pylint: disable=protected-access\u001b[0m\u001b[0;34m\u001b[0m\u001b[0;34m\u001b[0m\u001b[0m\n\u001b[0;32m--> 108\u001b[0;31m       \u001b[0;32mreturn\u001b[0m \u001b[0mmethod\u001b[0m\u001b[0;34m(\u001b[0m\u001b[0mself\u001b[0m\u001b[0;34m,\u001b[0m \u001b[0;34m*\u001b[0m\u001b[0margs\u001b[0m\u001b[0;34m,\u001b[0m \u001b[0;34m**\u001b[0m\u001b[0mkwargs\u001b[0m\u001b[0;34m)\u001b[0m\u001b[0;34m\u001b[0m\u001b[0;34m\u001b[0m\u001b[0m\n\u001b[0m\u001b[1;32m    109\u001b[0m \u001b[0;34m\u001b[0m\u001b[0m\n\u001b[1;32m    110\u001b[0m     \u001b[0;31m# Running inside `run_distribute_coordinator` already.\u001b[0m\u001b[0;34m\u001b[0m\u001b[0;34m\u001b[0m\u001b[0;34m\u001b[0m\u001b[0m\n",
            "\u001b[0;32m/usr/local/lib/python3.6/dist-packages/tensorflow/python/keras/engine/training.py\u001b[0m in \u001b[0;36mfit\u001b[0;34m(self, x, y, batch_size, epochs, verbose, callbacks, validation_split, validation_data, shuffle, class_weight, sample_weight, initial_epoch, steps_per_epoch, validation_steps, validation_batch_size, validation_freq, max_queue_size, workers, use_multiprocessing)\u001b[0m\n\u001b[1;32m   1096\u001b[0m                 batch_size=batch_size):\n\u001b[1;32m   1097\u001b[0m               \u001b[0mcallbacks\u001b[0m\u001b[0;34m.\u001b[0m\u001b[0mon_train_batch_begin\u001b[0m\u001b[0;34m(\u001b[0m\u001b[0mstep\u001b[0m\u001b[0;34m)\u001b[0m\u001b[0;34m\u001b[0m\u001b[0;34m\u001b[0m\u001b[0m\n\u001b[0;32m-> 1098\u001b[0;31m               \u001b[0mtmp_logs\u001b[0m \u001b[0;34m=\u001b[0m \u001b[0mtrain_function\u001b[0m\u001b[0;34m(\u001b[0m\u001b[0miterator\u001b[0m\u001b[0;34m)\u001b[0m\u001b[0;34m\u001b[0m\u001b[0;34m\u001b[0m\u001b[0m\n\u001b[0m\u001b[1;32m   1099\u001b[0m               \u001b[0;32mif\u001b[0m \u001b[0mdata_handler\u001b[0m\u001b[0;34m.\u001b[0m\u001b[0mshould_sync\u001b[0m\u001b[0;34m:\u001b[0m\u001b[0;34m\u001b[0m\u001b[0;34m\u001b[0m\u001b[0m\n\u001b[1;32m   1100\u001b[0m                 \u001b[0mcontext\u001b[0m\u001b[0;34m.\u001b[0m\u001b[0masync_wait\u001b[0m\u001b[0;34m(\u001b[0m\u001b[0;34m)\u001b[0m\u001b[0;34m\u001b[0m\u001b[0;34m\u001b[0m\u001b[0m\n",
            "\u001b[0;32m/usr/local/lib/python3.6/dist-packages/tensorflow/python/eager/def_function.py\u001b[0m in \u001b[0;36m__call__\u001b[0;34m(self, *args, **kwds)\u001b[0m\n\u001b[1;32m    778\u001b[0m       \u001b[0;32melse\u001b[0m\u001b[0;34m:\u001b[0m\u001b[0;34m\u001b[0m\u001b[0;34m\u001b[0m\u001b[0m\n\u001b[1;32m    779\u001b[0m         \u001b[0mcompiler\u001b[0m \u001b[0;34m=\u001b[0m \u001b[0;34m\"nonXla\"\u001b[0m\u001b[0;34m\u001b[0m\u001b[0;34m\u001b[0m\u001b[0m\n\u001b[0;32m--> 780\u001b[0;31m         \u001b[0mresult\u001b[0m \u001b[0;34m=\u001b[0m \u001b[0mself\u001b[0m\u001b[0;34m.\u001b[0m\u001b[0m_call\u001b[0m\u001b[0;34m(\u001b[0m\u001b[0;34m*\u001b[0m\u001b[0margs\u001b[0m\u001b[0;34m,\u001b[0m \u001b[0;34m**\u001b[0m\u001b[0mkwds\u001b[0m\u001b[0;34m)\u001b[0m\u001b[0;34m\u001b[0m\u001b[0;34m\u001b[0m\u001b[0m\n\u001b[0m\u001b[1;32m    781\u001b[0m \u001b[0;34m\u001b[0m\u001b[0m\n\u001b[1;32m    782\u001b[0m       \u001b[0mnew_tracing_count\u001b[0m \u001b[0;34m=\u001b[0m \u001b[0mself\u001b[0m\u001b[0;34m.\u001b[0m\u001b[0m_get_tracing_count\u001b[0m\u001b[0;34m(\u001b[0m\u001b[0;34m)\u001b[0m\u001b[0;34m\u001b[0m\u001b[0;34m\u001b[0m\u001b[0m\n",
            "\u001b[0;32m/usr/local/lib/python3.6/dist-packages/tensorflow/python/eager/def_function.py\u001b[0m in \u001b[0;36m_call\u001b[0;34m(self, *args, **kwds)\u001b[0m\n\u001b[1;32m    805\u001b[0m       \u001b[0;31m# In this case we have created variables on the first call, so we run the\u001b[0m\u001b[0;34m\u001b[0m\u001b[0;34m\u001b[0m\u001b[0;34m\u001b[0m\u001b[0m\n\u001b[1;32m    806\u001b[0m       \u001b[0;31m# defunned version which is guaranteed to never create variables.\u001b[0m\u001b[0;34m\u001b[0m\u001b[0;34m\u001b[0m\u001b[0;34m\u001b[0m\u001b[0m\n\u001b[0;32m--> 807\u001b[0;31m       \u001b[0;32mreturn\u001b[0m \u001b[0mself\u001b[0m\u001b[0;34m.\u001b[0m\u001b[0m_stateless_fn\u001b[0m\u001b[0;34m(\u001b[0m\u001b[0;34m*\u001b[0m\u001b[0margs\u001b[0m\u001b[0;34m,\u001b[0m \u001b[0;34m**\u001b[0m\u001b[0mkwds\u001b[0m\u001b[0;34m)\u001b[0m  \u001b[0;31m# pylint: disable=not-callable\u001b[0m\u001b[0;34m\u001b[0m\u001b[0;34m\u001b[0m\u001b[0m\n\u001b[0m\u001b[1;32m    808\u001b[0m     \u001b[0;32melif\u001b[0m \u001b[0mself\u001b[0m\u001b[0;34m.\u001b[0m\u001b[0m_stateful_fn\u001b[0m \u001b[0;32mis\u001b[0m \u001b[0;32mnot\u001b[0m \u001b[0;32mNone\u001b[0m\u001b[0;34m:\u001b[0m\u001b[0;34m\u001b[0m\u001b[0;34m\u001b[0m\u001b[0m\n\u001b[1;32m    809\u001b[0m       \u001b[0;31m# Release the lock early so that multiple threads can perform the call\u001b[0m\u001b[0;34m\u001b[0m\u001b[0;34m\u001b[0m\u001b[0;34m\u001b[0m\u001b[0m\n",
            "\u001b[0;32m/usr/local/lib/python3.6/dist-packages/tensorflow/python/eager/function.py\u001b[0m in \u001b[0;36m__call__\u001b[0;34m(self, *args, **kwargs)\u001b[0m\n\u001b[1;32m   2827\u001b[0m     \u001b[0;32mwith\u001b[0m \u001b[0mself\u001b[0m\u001b[0;34m.\u001b[0m\u001b[0m_lock\u001b[0m\u001b[0;34m:\u001b[0m\u001b[0;34m\u001b[0m\u001b[0;34m\u001b[0m\u001b[0m\n\u001b[1;32m   2828\u001b[0m       \u001b[0mgraph_function\u001b[0m\u001b[0;34m,\u001b[0m \u001b[0margs\u001b[0m\u001b[0;34m,\u001b[0m \u001b[0mkwargs\u001b[0m \u001b[0;34m=\u001b[0m \u001b[0mself\u001b[0m\u001b[0;34m.\u001b[0m\u001b[0m_maybe_define_function\u001b[0m\u001b[0;34m(\u001b[0m\u001b[0margs\u001b[0m\u001b[0;34m,\u001b[0m \u001b[0mkwargs\u001b[0m\u001b[0;34m)\u001b[0m\u001b[0;34m\u001b[0m\u001b[0;34m\u001b[0m\u001b[0m\n\u001b[0;32m-> 2829\u001b[0;31m     \u001b[0;32mreturn\u001b[0m \u001b[0mgraph_function\u001b[0m\u001b[0;34m.\u001b[0m\u001b[0m_filtered_call\u001b[0m\u001b[0;34m(\u001b[0m\u001b[0margs\u001b[0m\u001b[0;34m,\u001b[0m \u001b[0mkwargs\u001b[0m\u001b[0;34m)\u001b[0m  \u001b[0;31m# pylint: disable=protected-access\u001b[0m\u001b[0;34m\u001b[0m\u001b[0;34m\u001b[0m\u001b[0m\n\u001b[0m\u001b[1;32m   2830\u001b[0m \u001b[0;34m\u001b[0m\u001b[0m\n\u001b[1;32m   2831\u001b[0m   \u001b[0;34m@\u001b[0m\u001b[0mproperty\u001b[0m\u001b[0;34m\u001b[0m\u001b[0;34m\u001b[0m\u001b[0m\n",
            "\u001b[0;32m/usr/local/lib/python3.6/dist-packages/tensorflow/python/eager/function.py\u001b[0m in \u001b[0;36m_filtered_call\u001b[0;34m(self, args, kwargs, cancellation_manager)\u001b[0m\n\u001b[1;32m   1846\u001b[0m                            resource_variable_ops.BaseResourceVariable))],\n\u001b[1;32m   1847\u001b[0m         \u001b[0mcaptured_inputs\u001b[0m\u001b[0;34m=\u001b[0m\u001b[0mself\u001b[0m\u001b[0;34m.\u001b[0m\u001b[0mcaptured_inputs\u001b[0m\u001b[0;34m,\u001b[0m\u001b[0;34m\u001b[0m\u001b[0;34m\u001b[0m\u001b[0m\n\u001b[0;32m-> 1848\u001b[0;31m         cancellation_manager=cancellation_manager)\n\u001b[0m\u001b[1;32m   1849\u001b[0m \u001b[0;34m\u001b[0m\u001b[0m\n\u001b[1;32m   1850\u001b[0m   \u001b[0;32mdef\u001b[0m \u001b[0m_call_flat\u001b[0m\u001b[0;34m(\u001b[0m\u001b[0mself\u001b[0m\u001b[0;34m,\u001b[0m \u001b[0margs\u001b[0m\u001b[0;34m,\u001b[0m \u001b[0mcaptured_inputs\u001b[0m\u001b[0;34m,\u001b[0m \u001b[0mcancellation_manager\u001b[0m\u001b[0;34m=\u001b[0m\u001b[0;32mNone\u001b[0m\u001b[0;34m)\u001b[0m\u001b[0;34m:\u001b[0m\u001b[0;34m\u001b[0m\u001b[0;34m\u001b[0m\u001b[0m\n",
            "\u001b[0;32m/usr/local/lib/python3.6/dist-packages/tensorflow/python/eager/function.py\u001b[0m in \u001b[0;36m_call_flat\u001b[0;34m(self, args, captured_inputs, cancellation_manager)\u001b[0m\n\u001b[1;32m   1922\u001b[0m       \u001b[0;31m# No tape is watching; skip to running the function.\u001b[0m\u001b[0;34m\u001b[0m\u001b[0;34m\u001b[0m\u001b[0;34m\u001b[0m\u001b[0m\n\u001b[1;32m   1923\u001b[0m       return self._build_call_outputs(self._inference_function.call(\n\u001b[0;32m-> 1924\u001b[0;31m           ctx, args, cancellation_manager=cancellation_manager))\n\u001b[0m\u001b[1;32m   1925\u001b[0m     forward_backward = self._select_forward_and_backward_functions(\n\u001b[1;32m   1926\u001b[0m         \u001b[0margs\u001b[0m\u001b[0;34m,\u001b[0m\u001b[0;34m\u001b[0m\u001b[0;34m\u001b[0m\u001b[0m\n",
            "\u001b[0;32m/usr/local/lib/python3.6/dist-packages/tensorflow/python/eager/function.py\u001b[0m in \u001b[0;36mcall\u001b[0;34m(self, ctx, args, cancellation_manager)\u001b[0m\n\u001b[1;32m    548\u001b[0m               \u001b[0minputs\u001b[0m\u001b[0;34m=\u001b[0m\u001b[0margs\u001b[0m\u001b[0;34m,\u001b[0m\u001b[0;34m\u001b[0m\u001b[0;34m\u001b[0m\u001b[0m\n\u001b[1;32m    549\u001b[0m               \u001b[0mattrs\u001b[0m\u001b[0;34m=\u001b[0m\u001b[0mattrs\u001b[0m\u001b[0;34m,\u001b[0m\u001b[0;34m\u001b[0m\u001b[0;34m\u001b[0m\u001b[0m\n\u001b[0;32m--> 550\u001b[0;31m               ctx=ctx)\n\u001b[0m\u001b[1;32m    551\u001b[0m         \u001b[0;32melse\u001b[0m\u001b[0;34m:\u001b[0m\u001b[0;34m\u001b[0m\u001b[0;34m\u001b[0m\u001b[0m\n\u001b[1;32m    552\u001b[0m           outputs = execute.execute_with_cancellation(\n",
            "\u001b[0;32m/usr/local/lib/python3.6/dist-packages/tensorflow/python/eager/execute.py\u001b[0m in \u001b[0;36mquick_execute\u001b[0;34m(op_name, num_outputs, inputs, attrs, ctx, name)\u001b[0m\n\u001b[1;32m     58\u001b[0m     \u001b[0mctx\u001b[0m\u001b[0;34m.\u001b[0m\u001b[0mensure_initialized\u001b[0m\u001b[0;34m(\u001b[0m\u001b[0;34m)\u001b[0m\u001b[0;34m\u001b[0m\u001b[0;34m\u001b[0m\u001b[0m\n\u001b[1;32m     59\u001b[0m     tensors = pywrap_tfe.TFE_Py_Execute(ctx._handle, device_name, op_name,\n\u001b[0;32m---> 60\u001b[0;31m                                         inputs, attrs, num_outputs)\n\u001b[0m\u001b[1;32m     61\u001b[0m   \u001b[0;32mexcept\u001b[0m \u001b[0mcore\u001b[0m\u001b[0;34m.\u001b[0m\u001b[0m_NotOkStatusException\u001b[0m \u001b[0;32mas\u001b[0m \u001b[0me\u001b[0m\u001b[0;34m:\u001b[0m\u001b[0;34m\u001b[0m\u001b[0;34m\u001b[0m\u001b[0m\n\u001b[1;32m     62\u001b[0m     \u001b[0;32mif\u001b[0m \u001b[0mname\u001b[0m \u001b[0;32mis\u001b[0m \u001b[0;32mnot\u001b[0m \u001b[0;32mNone\u001b[0m\u001b[0;34m:\u001b[0m\u001b[0;34m\u001b[0m\u001b[0;34m\u001b[0m\u001b[0m\n",
            "\u001b[0;31mKeyboardInterrupt\u001b[0m: "
          ]
        }
      ]
    },
    {
      "cell_type": "code",
      "metadata": {
        "id": "2y2ncSjQJmq9"
      },
      "source": [
        "#using the code that i wrote yesterday"
      ],
      "execution_count": null,
      "outputs": []
    },
    {
      "cell_type": "code",
      "metadata": {
        "id": "k6M4ox3KLU0N"
      },
      "source": [
        "def plot(history):\n",
        "  acc = history.history['accuracy']\n",
        "  val_acc = history.history['val_accuracy']\n",
        "  loss = history.history['loss']\n",
        "  val_loss = history.history['val_loss']\n",
        "\n",
        "  epochs = range(len(acc))\n",
        "\n",
        "  plt.plot(epochs,acc,'b')\n",
        "  plt.plot(epochs,val_acc,'r')\n",
        "  plt.xlabel('Training Accuracy')\n",
        "  plt.xlabel('Validation Accuracy')\n",
        "  plt.figure()\n",
        "  plt.show()\n",
        "\n",
        "  plt.plot(epochs,loss,'b')\n",
        "  plt.plot(epochs,val_loss,'r')\n",
        "  plt.xlabel('Training Loss')\n",
        "  plt.xlabel('Validation Loss')\n",
        "  plt.figure()\n",
        "  plt.show()"
      ],
      "execution_count": null,
      "outputs": []
    },
    {
      "cell_type": "code",
      "metadata": {
        "id": "MVTjjE7WLVQN"
      },
      "source": [
        ""
      ],
      "execution_count": null,
      "outputs": []
    },
    {
      "cell_type": "code",
      "metadata": {
        "id": "WZzxeUCBLr6R"
      },
      "source": [
        "plot(history1)"
      ],
      "execution_count": null,
      "outputs": []
    },
    {
      "cell_type": "code",
      "metadata": {
        "id": "K67okpU-Lt5y"
      },
      "source": [
        "#so bye for now .. hope it completes after few hours \n",
        "# it got disconnected so i have to run it again"
      ],
      "execution_count": null,
      "outputs": []
    },
    {
      "cell_type": "code",
      "metadata": {
        "id": "2nPfjvOGLxr6"
      },
      "source": [
        ""
      ],
      "execution_count": null,
      "outputs": []
    }
  ]
}